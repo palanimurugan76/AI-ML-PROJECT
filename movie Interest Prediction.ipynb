{
 "cells": [
  {
   "cell_type": "code",
   "execution_count": 1,
   "id": "611c2df2-54f5-4171-b39d-a8459329c685",
   "metadata": {},
   "outputs": [],
   "source": [
    "import pandas as pd\n",
    "movie_info=pd.read_csv('movie Interests.csv')"
   ]
  },
  {
   "cell_type": "code",
   "execution_count": 2,
   "id": "1bfe1eb2-2da1-443c-a853-1d4c216fc6a4",
   "metadata": {},
   "outputs": [
    {
     "data": {
      "text/html": [
       "<div>\n",
       "<style scoped>\n",
       "    .dataframe tbody tr th:only-of-type {\n",
       "        vertical-align: middle;\n",
       "    }\n",
       "\n",
       "    .dataframe tbody tr th {\n",
       "        vertical-align: top;\n",
       "    }\n",
       "\n",
       "    .dataframe thead th {\n",
       "        text-align: right;\n",
       "    }\n",
       "</style>\n",
       "<table border=\"1\" class=\"dataframe\">\n",
       "  <thead>\n",
       "    <tr style=\"text-align: right;\">\n",
       "      <th></th>\n",
       "      <th>Age</th>\n",
       "      <th>Gender</th>\n",
       "      <th>Interest</th>\n",
       "    </tr>\n",
       "  </thead>\n",
       "  <tbody>\n",
       "    <tr>\n",
       "      <th>0</th>\n",
       "      <td>8</td>\n",
       "      <td>1</td>\n",
       "      <td>Animation</td>\n",
       "    </tr>\n",
       "    <tr>\n",
       "      <th>1</th>\n",
       "      <td>11</td>\n",
       "      <td>1</td>\n",
       "      <td>Animation</td>\n",
       "    </tr>\n",
       "    <tr>\n",
       "      <th>2</th>\n",
       "      <td>12</td>\n",
       "      <td>1</td>\n",
       "      <td>Animation</td>\n",
       "    </tr>\n",
       "    <tr>\n",
       "      <th>3</th>\n",
       "      <td>16</td>\n",
       "      <td>1</td>\n",
       "      <td>Action</td>\n",
       "    </tr>\n",
       "    <tr>\n",
       "      <th>4</th>\n",
       "      <td>18</td>\n",
       "      <td>1</td>\n",
       "      <td>Action</td>\n",
       "    </tr>\n",
       "    <tr>\n",
       "      <th>5</th>\n",
       "      <td>19</td>\n",
       "      <td>1</td>\n",
       "      <td>Action</td>\n",
       "    </tr>\n",
       "    <tr>\n",
       "      <th>6</th>\n",
       "      <td>23</td>\n",
       "      <td>1</td>\n",
       "      <td>Drama</td>\n",
       "    </tr>\n",
       "    <tr>\n",
       "      <th>7</th>\n",
       "      <td>26</td>\n",
       "      <td>1</td>\n",
       "      <td>Drama</td>\n",
       "    </tr>\n",
       "    <tr>\n",
       "      <th>8</th>\n",
       "      <td>27</td>\n",
       "      <td>1</td>\n",
       "      <td>Drama</td>\n",
       "    </tr>\n",
       "    <tr>\n",
       "      <th>9</th>\n",
       "      <td>7</td>\n",
       "      <td>0</td>\n",
       "      <td>Animation</td>\n",
       "    </tr>\n",
       "    <tr>\n",
       "      <th>10</th>\n",
       "      <td>9</td>\n",
       "      <td>0</td>\n",
       "      <td>Animation</td>\n",
       "    </tr>\n",
       "    <tr>\n",
       "      <th>11</th>\n",
       "      <td>10</td>\n",
       "      <td>0</td>\n",
       "      <td>Animation</td>\n",
       "    </tr>\n",
       "    <tr>\n",
       "      <th>12</th>\n",
       "      <td>26</td>\n",
       "      <td>0</td>\n",
       "      <td>Action</td>\n",
       "    </tr>\n",
       "    <tr>\n",
       "      <th>13</th>\n",
       "      <td>27</td>\n",
       "      <td>0</td>\n",
       "      <td>Action</td>\n",
       "    </tr>\n",
       "    <tr>\n",
       "      <th>14</th>\n",
       "      <td>30</td>\n",
       "      <td>0</td>\n",
       "      <td>Action</td>\n",
       "    </tr>\n",
       "    <tr>\n",
       "      <th>15</th>\n",
       "      <td>31</td>\n",
       "      <td>0</td>\n",
       "      <td>Drama</td>\n",
       "    </tr>\n",
       "    <tr>\n",
       "      <th>16</th>\n",
       "      <td>34</td>\n",
       "      <td>0</td>\n",
       "      <td>Drama</td>\n",
       "    </tr>\n",
       "    <tr>\n",
       "      <th>17</th>\n",
       "      <td>35</td>\n",
       "      <td>0</td>\n",
       "      <td>Drama</td>\n",
       "    </tr>\n",
       "  </tbody>\n",
       "</table>\n",
       "</div>"
      ],
      "text/plain": [
       "    Age  Gender   Interest\n",
       "0     8       1  Animation\n",
       "1    11       1  Animation\n",
       "2    12       1  Animation\n",
       "3    16       1     Action\n",
       "4    18       1     Action\n",
       "5    19       1     Action\n",
       "6    23       1      Drama\n",
       "7    26       1      Drama\n",
       "8    27       1      Drama\n",
       "9     7       0  Animation\n",
       "10    9       0  Animation\n",
       "11   10       0  Animation\n",
       "12   26       0     Action\n",
       "13   27       0     Action\n",
       "14   30       0     Action\n",
       "15   31       0      Drama\n",
       "16   34       0      Drama\n",
       "17   35       0      Drama"
      ]
     },
     "execution_count": 2,
     "metadata": {},
     "output_type": "execute_result"
    }
   ],
   "source": [
    "movie_info"
   ]
  },
  {
   "cell_type": "code",
   "execution_count": 3,
   "id": "45176a57-cfe8-47fa-aff2-64305ce40458",
   "metadata": {},
   "outputs": [],
   "source": [
    "input_dataset=movie_info.drop(columns=['Interest'])"
   ]
  },
  {
   "cell_type": "code",
   "execution_count": 4,
   "id": "06f8ad87-72c4-4e83-863e-a0223728162a",
   "metadata": {},
   "outputs": [],
   "source": [
    "output_dataset=movie_info['Interest']"
   ]
  },
  {
   "cell_type": "code",
   "execution_count": 5,
   "id": "1541d5dd-b594-4527-9149-a9a792c03385",
   "metadata": {},
   "outputs": [
    {
     "data": {
      "text/plain": [
       "0     Animation\n",
       "1     Animation\n",
       "2     Animation\n",
       "3        Action\n",
       "4        Action\n",
       "5        Action\n",
       "6         Drama\n",
       "7         Drama\n",
       "8         Drama\n",
       "9     Animation\n",
       "10    Animation\n",
       "11    Animation\n",
       "12       Action\n",
       "13       Action\n",
       "14       Action\n",
       "15        Drama\n",
       "16        Drama\n",
       "17        Drama\n",
       "Name: Interest, dtype: object"
      ]
     },
     "execution_count": 5,
     "metadata": {},
     "output_type": "execute_result"
    }
   ],
   "source": [
    "output_dataset"
   ]
  },
  {
   "cell_type": "code",
   "execution_count": 6,
   "id": "7aaaca64-3969-49ec-bc8b-1673f07ec901",
   "metadata": {},
   "outputs": [
    {
     "name": "stderr",
     "output_type": "stream",
     "text": [
      "C:\\Users\\PALANIMURUGAN.J\\anaconda3\\Lib\\site-packages\\sklearn\\base.py:493: UserWarning: X does not have valid feature names, but DecisionTreeClassifier was fitted with feature names\n",
      "  warnings.warn(\n"
     ]
    }
   ],
   "source": [
    "from sklearn.tree import DecisionTreeClassifier\n",
    "movie_model=DecisionTreeClassifier()\n",
    "movie_model.fit(input_dataset,output_dataset)\n",
    "movie_interest=movie_model.predict([[9,1],[33,0]])"
   ]
  },
  {
   "cell_type": "code",
   "execution_count": 8,
   "id": "46435337-0d17-40c5-8db0-b0ebfdb8b59a",
   "metadata": {},
   "outputs": [
    {
     "data": {
      "text/plain": [
       "array(['Animation', 'Drama'], dtype=object)"
      ]
     },
     "execution_count": 8,
     "metadata": {},
     "output_type": "execute_result"
    }
   ],
   "source": [
    "movie_interest"
   ]
  },
  {
   "cell_type": "code",
   "execution_count": 9,
   "id": "457f500c-9062-4874-8d6c-d3d378a6d33a",
   "metadata": {},
   "outputs": [],
   "source": [
    "import pickle\n",
    "pickle.dump(movie_model,open('Movie Interests.pkl','wb'))"
   ]
  },
  {
   "cell_type": "code",
   "execution_count": 11,
   "id": "b29db7d9-bc6e-499e-8b7d-d3b2bfb7eaac",
   "metadata": {},
   "outputs": [
    {
     "name": "stdout",
     "output_type": "stream",
     "text": [
      "['Animation' 'Drama']\n"
     ]
    },
    {
     "name": "stderr",
     "output_type": "stream",
     "text": [
      "C:\\Users\\PALANIMURUGAN.J\\anaconda3\\Lib\\site-packages\\sklearn\\base.py:493: UserWarning: X does not have valid feature names, but DecisionTreeClassifier was fitted with feature names\n",
      "  warnings.warn(\n"
     ]
    }
   ],
   "source": [
    "model1=pickle.load(open('Movie Interests.pkl','rb'))\n",
    "print(model1.predict([[9,1],[33,0]]))"
   ]
  }
 ],
 "metadata": {
  "kernelspec": {
   "display_name": "Python 3 (ipykernel)",
   "language": "python",
   "name": "python3"
  },
  "language_info": {
   "codemirror_mode": {
    "name": "ipython",
    "version": 3
   },
   "file_extension": ".py",
   "mimetype": "text/x-python",
   "name": "python",
   "nbconvert_exporter": "python",
   "pygments_lexer": "ipython3",
   "version": "3.12.3"
  }
 },
 "nbformat": 4,
 "nbformat_minor": 5
}
